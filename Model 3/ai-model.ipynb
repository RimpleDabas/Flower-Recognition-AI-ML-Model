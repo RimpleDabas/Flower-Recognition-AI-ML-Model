{
 "cells": [
  {
   "cell_type": "code",
   "execution_count": 1,
   "metadata": {},
   "outputs": [],
   "source": [
    "import random as rn\n",
    "import numpy as np\n",
    "import pandas as pd\n",
    "import matplotlib.pyplot as plt\n",
    "from matplotlib import style\n",
    "import seaborn as sns\n",
    "%matplotlib inline  \n",
    "style.use('fivethirtyeight')\n",
    "sns.set(style='whitegrid',color_codes=True)"
   ]
  },
  {
   "cell_type": "code",
   "execution_count": 2,
   "metadata": {},
   "outputs": [],
   "source": [
    "X = np.load(\"dataset/data.npy\")\n",
    "labels = np.load(\"dataset/label.npy\")"
   ]
  },
  {
   "cell_type": "code",
   "execution_count": 3,
   "metadata": {},
   "outputs": [],
   "source": [
    "from sklearn.preprocessing import LabelEncoder\n",
    "from keras.utils import to_categorical\n",
    "\n",
    "labelEncoder = LabelEncoder()\n",
    "y = labelEncoder.fit_transform(labels)\n",
    "y = to_categorical(y, 10)"
   ]
  },
  {
   "cell_type": "code",
   "execution_count": 4,
   "metadata": {},
   "outputs": [],
   "source": [
    "from sklearn.model_selection import train_test_split\n",
    "from sklearn.model_selection import KFold\n",
    "from sklearn.preprocessing import StandardScaler\n",
    "from sklearn.metrics import accuracy_score, precision_score\n",
    "from sklearn.model_selection import GridSearchCV\n",
    "import tensorflow as tf"
   ]
  },
  {
   "cell_type": "code",
   "execution_count": 5,
   "metadata": {},
   "outputs": [
    {
     "name": "stdout",
     "output_type": "stream",
     "text": [
      "x_train shape:  (2500, 150, 150, 3)\n",
      "x_test shape:  (626, 150, 150, 3)\n",
      "y_train shape:  (2500, 10)\n",
      "y_test shape:  (626, 10)\n"
     ]
    }
   ],
   "source": [
    "x_train, x_test, y_train, y_test = train_test_split(X, y, test_size = 0.2, random_state=42)\n",
    "\n",
    "print(\"x_train shape: \", x_train.shape)\n",
    "print(\"x_test shape: \", x_test.shape)\n",
    "print(\"y_train shape: \", y_train.shape)\n",
    "print(\"y_test shape: \", y_test.shape)"
   ]
  },
  {
   "cell_type": "code",
   "execution_count": 6,
   "metadata": {},
   "outputs": [],
   "source": [
    "# know neural ntwrk architecture # work in sequential model\n",
    "from keras import models\n",
    "from keras import layers\n",
    "from keras.models import Sequential\n",
    "from keras.layers import Dense, Flatten, Conv2D, MaxPooling2D\n",
    "from keras.optimizers import Adam"
   ]
  },
  {
   "cell_type": "code",
   "execution_count": 7,
   "metadata": {},
   "outputs": [],
   "source": [
    "# modelling \n",
    "model = Sequential()\n",
    "\n",
    "model.add(Conv2D(filters = 32, kernel_size=(3,3), padding = \"Same\", activation=\"relu\", input_shape = (150,150,3)))\n",
    "model.add(MaxPooling2D(pool_size=(2,2)))\n",
    "\n",
    "model.add(Conv2D(filters = 64, kernel_size = (3,3), padding  = \"Same\", activation = \"relu\"))\n",
    "model.add(MaxPooling2D(pool_size=(2,2)))\n",
    "\n",
    "model.add(Conv2D(filters = 96, kernel_size = (3,3), padding  = \"Same\", activation = \"relu\"))\n",
    "model.add(MaxPooling2D(pool_size=(2,2)))\n",
    "\n",
    "model.add(Conv2D(filters = 96, kernel_size = (3,3), padding  = \"Same\", activation = \"relu\"))\n",
    "model.add(MaxPooling2D(pool_size=(2,2)))\n",
    "\n",
    "\n",
    "model.add(Flatten())\n",
    "model.add(Dense(1024, activation=\"relu\"))\n",
    "model.add(Dense(1024, activation=\"relu\"))\n",
    "model.add(Dense(10, activation=\"softmax\"))"
   ]
  },
  {
   "cell_type": "code",
   "execution_count": 8,
   "metadata": {},
   "outputs": [],
   "source": [
    "# preprocess\n",
    "from keras.preprocessing.image import ImageDataGenerator\n",
    "# data augmentation\n",
    "datagen = ImageDataGenerator(\n",
    "    featurewise_center=False,  # set input mean to 0 over the dataset\n",
    "    samplewise_center=False,   # set each sample mean to 0\n",
    "    featurewise_std_normalization=False,   # divide inputs by std of the dataset\n",
    "    samplewise_std_normalization= False,   # divide each input by its std\n",
    "    zca_whitening=False,   # dimesion reduction\n",
    "    rotation_range=10,    # randomly rotate images in the range 10 degrees\n",
    "    zoom_range=0.1,      # Randomly zoom image 10%\n",
    "    width_shift_range=0.2,   # randomly shift images horizontally 20%\n",
    "    height_shift_range=0.2,   # randomly shift images vertically 20%\n",
    "    horizontal_flip=True,     # randomly flip images\n",
    "    vertical_flip=False    # randomly flip images\n",
    ")\n",
    "datagen.fit(x_train)"
   ]
  },
  {
   "cell_type": "code",
   "execution_count": 9,
   "metadata": {},
   "outputs": [],
   "source": [
    "model.compile(optimizer=Adam(learning_rate=0.001), loss=\"categorical_crossentropy\", metrics = [\"accuracy\"])"
   ]
  },
  {
   "cell_type": "code",
   "execution_count": 10,
   "metadata": {},
   "outputs": [
    {
     "name": "stdout",
     "output_type": "stream",
     "text": [
      "Epoch 1/20\n",
      "20/20 [==============================] - 19s 878ms/step - loss: 18.2284 - accuracy: 0.1244\n",
      "Epoch 2/20\n",
      "20/20 [==============================] - 18s 877ms/step - loss: 2.2235 - accuracy: 0.1424\n",
      "Epoch 3/20\n",
      "20/20 [==============================] - 20s 988ms/step - loss: 2.0468 - accuracy: 0.2628\n",
      "Epoch 4/20\n",
      "20/20 [==============================] - 19s 936ms/step - loss: 1.8353 - accuracy: 0.3280\n",
      "Epoch 5/20\n",
      "20/20 [==============================] - 19s 941ms/step - loss: 1.5794 - accuracy: 0.4488\n",
      "Epoch 6/20\n",
      "20/20 [==============================] - 19s 942ms/step - loss: 1.3022 - accuracy: 0.5296\n",
      "Epoch 7/20\n",
      "20/20 [==============================] - 19s 959ms/step - loss: 1.0743 - accuracy: 0.6360\n",
      "Epoch 8/20\n",
      "20/20 [==============================] - 19s 949ms/step - loss: 0.7086 - accuracy: 0.7660\n",
      "Epoch 9/20\n",
      "20/20 [==============================] - 18s 926ms/step - loss: 0.4799 - accuracy: 0.8480\n",
      "Epoch 10/20\n",
      "20/20 [==============================] - 31s 2s/step - loss: 0.3540 - accuracy: 0.8924\n",
      "Epoch 11/20\n",
      "20/20 [==============================] - 36s 2s/step - loss: 0.2248 - accuracy: 0.9324\n",
      "Epoch 12/20\n",
      "20/20 [==============================] - 37s 2s/step - loss: 0.2048 - accuracy: 0.9364\n",
      "Epoch 13/20\n",
      "20/20 [==============================] - 37s 2s/step - loss: 0.1371 - accuracy: 0.9612\n",
      "Epoch 14/20\n",
      "20/20 [==============================] - 35s 2s/step - loss: 0.0807 - accuracy: 0.9752\n",
      "Epoch 15/20\n",
      "20/20 [==============================] - 26s 1s/step - loss: 0.0470 - accuracy: 0.9872\n",
      "Epoch 16/20\n",
      "20/20 [==============================] - 27s 1s/step - loss: 0.0332 - accuracy: 0.9924\n",
      "Epoch 17/20\n",
      "20/20 [==============================] - 27s 1s/step - loss: 0.0149 - accuracy: 0.9960\n",
      "Epoch 18/20\n",
      "20/20 [==============================] - 26s 1s/step - loss: 0.0076 - accuracy: 0.9992\n",
      "Epoch 19/20\n",
      "20/20 [==============================] - 20s 1s/step - loss: 0.0023 - accuracy: 1.0000\n",
      "Epoch 20/20\n",
      "20/20 [==============================] - 22s 1s/step - loss: 9.2724e-04 - accuracy: 1.0000\n"
     ]
    },
    {
     "data": {
      "text/plain": [
       "<keras.callbacks.History at 0x28da12cd780>"
      ]
     },
     "execution_count": 10,
     "metadata": {},
     "output_type": "execute_result"
    }
   ],
   "source": [
    "model.fit(x_train, y_train, epochs=20, batch_size=128)"
   ]
  },
  {
   "cell_type": "code",
   "execution_count": 11,
   "metadata": {},
   "outputs": [],
   "source": [
    "model.save(\"model/flower-recognition-model.h5\")"
   ]
  }
 ],
 "metadata": {
  "kernelspec": {
   "display_name": "PythonData",
   "language": "python",
   "name": "python3"
  },
  "language_info": {
   "codemirror_mode": {
    "name": "ipython",
    "version": 3
   },
   "file_extension": ".py",
   "mimetype": "text/x-python",
   "name": "python",
   "nbconvert_exporter": "python",
   "pygments_lexer": "ipython3",
   "version": "3.10.9"
  },
  "orig_nbformat": 4
 },
 "nbformat": 4,
 "nbformat_minor": 2
}
